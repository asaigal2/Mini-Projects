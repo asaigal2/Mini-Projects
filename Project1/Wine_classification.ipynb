{
 "cells": [
  {
   "cell_type": "markdown",
   "id": "e9a7a0f4-a83c-4fbd-970d-a227105a2588",
   "metadata": {},
   "source": [
    "# White Wine classification"
   ]
  },
  {
   "cell_type": "code",
   "execution_count": 39,
   "id": "8a4328f1-c76d-4c69-a91e-2e41675c0728",
   "metadata": {},
   "outputs": [],
   "source": [
    "import pandas as pd\n",
    "import numpy as np\n",
    "import matplotlib.pyplot as plt\n",
    "from sklearn.preprocessing import StandardScaler\n",
    "from sklearn.neighbors import KNeighborsClassifier\n",
    "from sklearn.ensemble import RandomForestClassifier\n",
    "\n",
    "from sklearn.tree import DecisionTreeClassifier\n",
    "from sklearn.model_selection import train_test_split\n",
    "from sklearn.metrics import classification_report\n",
    "from sklearn.linear_model import SGDClassifier\n",
    "from sklearn.model_selection import RandomizedSearchCV,cross_val_score"
   ]
  },
  {
   "cell_type": "code",
   "execution_count": 2,
   "id": "4502f123-4ffd-49bf-8c74-02a89e542279",
   "metadata": {},
   "outputs": [],
   "source": [
    "df=pd.read_csv('winequality-white.csv',delimiter=';')"
   ]
  },
  {
   "cell_type": "code",
   "execution_count": 3,
   "id": "49ad2550-f152-4b88-9a38-855cf0ea9e5b",
   "metadata": {},
   "outputs": [
    {
     "data": {
      "text/html": [
       "<div>\n",
       "<style scoped>\n",
       "    .dataframe tbody tr th:only-of-type {\n",
       "        vertical-align: middle;\n",
       "    }\n",
       "\n",
       "    .dataframe tbody tr th {\n",
       "        vertical-align: top;\n",
       "    }\n",
       "\n",
       "    .dataframe thead th {\n",
       "        text-align: right;\n",
       "    }\n",
       "</style>\n",
       "<table border=\"1\" class=\"dataframe\">\n",
       "  <thead>\n",
       "    <tr style=\"text-align: right;\">\n",
       "      <th></th>\n",
       "      <th>fixed acidity</th>\n",
       "      <th>volatile acidity</th>\n",
       "      <th>citric acid</th>\n",
       "      <th>residual sugar</th>\n",
       "      <th>chlorides</th>\n",
       "      <th>free sulfur dioxide</th>\n",
       "      <th>total sulfur dioxide</th>\n",
       "      <th>density</th>\n",
       "      <th>pH</th>\n",
       "      <th>sulphates</th>\n",
       "      <th>alcohol</th>\n",
       "      <th>quality</th>\n",
       "    </tr>\n",
       "  </thead>\n",
       "  <tbody>\n",
       "    <tr>\n",
       "      <th>0</th>\n",
       "      <td>7.0</td>\n",
       "      <td>0.27</td>\n",
       "      <td>0.36</td>\n",
       "      <td>20.7</td>\n",
       "      <td>0.045</td>\n",
       "      <td>45.0</td>\n",
       "      <td>170.0</td>\n",
       "      <td>1.0010</td>\n",
       "      <td>3.00</td>\n",
       "      <td>0.45</td>\n",
       "      <td>8.8</td>\n",
       "      <td>6</td>\n",
       "    </tr>\n",
       "    <tr>\n",
       "      <th>1</th>\n",
       "      <td>6.3</td>\n",
       "      <td>0.30</td>\n",
       "      <td>0.34</td>\n",
       "      <td>1.6</td>\n",
       "      <td>0.049</td>\n",
       "      <td>14.0</td>\n",
       "      <td>132.0</td>\n",
       "      <td>0.9940</td>\n",
       "      <td>3.30</td>\n",
       "      <td>0.49</td>\n",
       "      <td>9.5</td>\n",
       "      <td>6</td>\n",
       "    </tr>\n",
       "    <tr>\n",
       "      <th>2</th>\n",
       "      <td>8.1</td>\n",
       "      <td>0.28</td>\n",
       "      <td>0.40</td>\n",
       "      <td>6.9</td>\n",
       "      <td>0.050</td>\n",
       "      <td>30.0</td>\n",
       "      <td>97.0</td>\n",
       "      <td>0.9951</td>\n",
       "      <td>3.26</td>\n",
       "      <td>0.44</td>\n",
       "      <td>10.1</td>\n",
       "      <td>6</td>\n",
       "    </tr>\n",
       "    <tr>\n",
       "      <th>3</th>\n",
       "      <td>7.2</td>\n",
       "      <td>0.23</td>\n",
       "      <td>0.32</td>\n",
       "      <td>8.5</td>\n",
       "      <td>0.058</td>\n",
       "      <td>47.0</td>\n",
       "      <td>186.0</td>\n",
       "      <td>0.9956</td>\n",
       "      <td>3.19</td>\n",
       "      <td>0.40</td>\n",
       "      <td>9.9</td>\n",
       "      <td>6</td>\n",
       "    </tr>\n",
       "    <tr>\n",
       "      <th>4</th>\n",
       "      <td>7.2</td>\n",
       "      <td>0.23</td>\n",
       "      <td>0.32</td>\n",
       "      <td>8.5</td>\n",
       "      <td>0.058</td>\n",
       "      <td>47.0</td>\n",
       "      <td>186.0</td>\n",
       "      <td>0.9956</td>\n",
       "      <td>3.19</td>\n",
       "      <td>0.40</td>\n",
       "      <td>9.9</td>\n",
       "      <td>6</td>\n",
       "    </tr>\n",
       "  </tbody>\n",
       "</table>\n",
       "</div>"
      ],
      "text/plain": [
       "   fixed acidity  volatile acidity  citric acid  residual sugar  chlorides  \\\n",
       "0            7.0              0.27         0.36            20.7      0.045   \n",
       "1            6.3              0.30         0.34             1.6      0.049   \n",
       "2            8.1              0.28         0.40             6.9      0.050   \n",
       "3            7.2              0.23         0.32             8.5      0.058   \n",
       "4            7.2              0.23         0.32             8.5      0.058   \n",
       "\n",
       "   free sulfur dioxide  total sulfur dioxide  density    pH  sulphates  \\\n",
       "0                 45.0                 170.0   1.0010  3.00       0.45   \n",
       "1                 14.0                 132.0   0.9940  3.30       0.49   \n",
       "2                 30.0                  97.0   0.9951  3.26       0.44   \n",
       "3                 47.0                 186.0   0.9956  3.19       0.40   \n",
       "4                 47.0                 186.0   0.9956  3.19       0.40   \n",
       "\n",
       "   alcohol  quality  \n",
       "0      8.8        6  \n",
       "1      9.5        6  \n",
       "2     10.1        6  \n",
       "3      9.9        6  \n",
       "4      9.9        6  "
      ]
     },
     "execution_count": 3,
     "metadata": {},
     "output_type": "execute_result"
    }
   ],
   "source": [
    "df.head(5)  #First 5 rows"
   ]
  },
  {
   "cell_type": "code",
   "execution_count": 4,
   "id": "9d57fd36-67c8-4a87-afac-a09d96ab5f05",
   "metadata": {},
   "outputs": [
    {
     "data": {
      "text/html": [
       "<div>\n",
       "<style scoped>\n",
       "    .dataframe tbody tr th:only-of-type {\n",
       "        vertical-align: middle;\n",
       "    }\n",
       "\n",
       "    .dataframe tbody tr th {\n",
       "        vertical-align: top;\n",
       "    }\n",
       "\n",
       "    .dataframe thead th {\n",
       "        text-align: right;\n",
       "    }\n",
       "</style>\n",
       "<table border=\"1\" class=\"dataframe\">\n",
       "  <thead>\n",
       "    <tr style=\"text-align: right;\">\n",
       "      <th></th>\n",
       "      <th>fixed acidity</th>\n",
       "      <th>volatile acidity</th>\n",
       "      <th>citric acid</th>\n",
       "      <th>residual sugar</th>\n",
       "      <th>chlorides</th>\n",
       "      <th>free sulfur dioxide</th>\n",
       "      <th>total sulfur dioxide</th>\n",
       "      <th>density</th>\n",
       "      <th>pH</th>\n",
       "      <th>sulphates</th>\n",
       "      <th>alcohol</th>\n",
       "      <th>quality</th>\n",
       "    </tr>\n",
       "  </thead>\n",
       "  <tbody>\n",
       "    <tr>\n",
       "      <th>count</th>\n",
       "      <td>4898.000000</td>\n",
       "      <td>4898.000000</td>\n",
       "      <td>4898.000000</td>\n",
       "      <td>4898.000000</td>\n",
       "      <td>4898.000000</td>\n",
       "      <td>4898.000000</td>\n",
       "      <td>4898.000000</td>\n",
       "      <td>4898.000000</td>\n",
       "      <td>4898.000000</td>\n",
       "      <td>4898.000000</td>\n",
       "      <td>4898.000000</td>\n",
       "      <td>4898.000000</td>\n",
       "    </tr>\n",
       "    <tr>\n",
       "      <th>mean</th>\n",
       "      <td>6.854788</td>\n",
       "      <td>0.278241</td>\n",
       "      <td>0.334192</td>\n",
       "      <td>6.391415</td>\n",
       "      <td>0.045772</td>\n",
       "      <td>35.308085</td>\n",
       "      <td>138.360657</td>\n",
       "      <td>0.994027</td>\n",
       "      <td>3.188267</td>\n",
       "      <td>0.489847</td>\n",
       "      <td>10.514267</td>\n",
       "      <td>5.877909</td>\n",
       "    </tr>\n",
       "    <tr>\n",
       "      <th>std</th>\n",
       "      <td>0.843868</td>\n",
       "      <td>0.100795</td>\n",
       "      <td>0.121020</td>\n",
       "      <td>5.072058</td>\n",
       "      <td>0.021848</td>\n",
       "      <td>17.007137</td>\n",
       "      <td>42.498065</td>\n",
       "      <td>0.002991</td>\n",
       "      <td>0.151001</td>\n",
       "      <td>0.114126</td>\n",
       "      <td>1.230621</td>\n",
       "      <td>0.885639</td>\n",
       "    </tr>\n",
       "    <tr>\n",
       "      <th>min</th>\n",
       "      <td>3.800000</td>\n",
       "      <td>0.080000</td>\n",
       "      <td>0.000000</td>\n",
       "      <td>0.600000</td>\n",
       "      <td>0.009000</td>\n",
       "      <td>2.000000</td>\n",
       "      <td>9.000000</td>\n",
       "      <td>0.987110</td>\n",
       "      <td>2.720000</td>\n",
       "      <td>0.220000</td>\n",
       "      <td>8.000000</td>\n",
       "      <td>3.000000</td>\n",
       "    </tr>\n",
       "    <tr>\n",
       "      <th>25%</th>\n",
       "      <td>6.300000</td>\n",
       "      <td>0.210000</td>\n",
       "      <td>0.270000</td>\n",
       "      <td>1.700000</td>\n",
       "      <td>0.036000</td>\n",
       "      <td>23.000000</td>\n",
       "      <td>108.000000</td>\n",
       "      <td>0.991723</td>\n",
       "      <td>3.090000</td>\n",
       "      <td>0.410000</td>\n",
       "      <td>9.500000</td>\n",
       "      <td>5.000000</td>\n",
       "    </tr>\n",
       "    <tr>\n",
       "      <th>50%</th>\n",
       "      <td>6.800000</td>\n",
       "      <td>0.260000</td>\n",
       "      <td>0.320000</td>\n",
       "      <td>5.200000</td>\n",
       "      <td>0.043000</td>\n",
       "      <td>34.000000</td>\n",
       "      <td>134.000000</td>\n",
       "      <td>0.993740</td>\n",
       "      <td>3.180000</td>\n",
       "      <td>0.470000</td>\n",
       "      <td>10.400000</td>\n",
       "      <td>6.000000</td>\n",
       "    </tr>\n",
       "    <tr>\n",
       "      <th>75%</th>\n",
       "      <td>7.300000</td>\n",
       "      <td>0.320000</td>\n",
       "      <td>0.390000</td>\n",
       "      <td>9.900000</td>\n",
       "      <td>0.050000</td>\n",
       "      <td>46.000000</td>\n",
       "      <td>167.000000</td>\n",
       "      <td>0.996100</td>\n",
       "      <td>3.280000</td>\n",
       "      <td>0.550000</td>\n",
       "      <td>11.400000</td>\n",
       "      <td>6.000000</td>\n",
       "    </tr>\n",
       "    <tr>\n",
       "      <th>max</th>\n",
       "      <td>14.200000</td>\n",
       "      <td>1.100000</td>\n",
       "      <td>1.660000</td>\n",
       "      <td>65.800000</td>\n",
       "      <td>0.346000</td>\n",
       "      <td>289.000000</td>\n",
       "      <td>440.000000</td>\n",
       "      <td>1.038980</td>\n",
       "      <td>3.820000</td>\n",
       "      <td>1.080000</td>\n",
       "      <td>14.200000</td>\n",
       "      <td>9.000000</td>\n",
       "    </tr>\n",
       "  </tbody>\n",
       "</table>\n",
       "</div>"
      ],
      "text/plain": [
       "       fixed acidity  volatile acidity  citric acid  residual sugar  \\\n",
       "count    4898.000000       4898.000000  4898.000000     4898.000000   \n",
       "mean        6.854788          0.278241     0.334192        6.391415   \n",
       "std         0.843868          0.100795     0.121020        5.072058   \n",
       "min         3.800000          0.080000     0.000000        0.600000   \n",
       "25%         6.300000          0.210000     0.270000        1.700000   \n",
       "50%         6.800000          0.260000     0.320000        5.200000   \n",
       "75%         7.300000          0.320000     0.390000        9.900000   \n",
       "max        14.200000          1.100000     1.660000       65.800000   \n",
       "\n",
       "         chlorides  free sulfur dioxide  total sulfur dioxide      density  \\\n",
       "count  4898.000000          4898.000000           4898.000000  4898.000000   \n",
       "mean      0.045772            35.308085            138.360657     0.994027   \n",
       "std       0.021848            17.007137             42.498065     0.002991   \n",
       "min       0.009000             2.000000              9.000000     0.987110   \n",
       "25%       0.036000            23.000000            108.000000     0.991723   \n",
       "50%       0.043000            34.000000            134.000000     0.993740   \n",
       "75%       0.050000            46.000000            167.000000     0.996100   \n",
       "max       0.346000           289.000000            440.000000     1.038980   \n",
       "\n",
       "                pH    sulphates      alcohol      quality  \n",
       "count  4898.000000  4898.000000  4898.000000  4898.000000  \n",
       "mean      3.188267     0.489847    10.514267     5.877909  \n",
       "std       0.151001     0.114126     1.230621     0.885639  \n",
       "min       2.720000     0.220000     8.000000     3.000000  \n",
       "25%       3.090000     0.410000     9.500000     5.000000  \n",
       "50%       3.180000     0.470000    10.400000     6.000000  \n",
       "75%       3.280000     0.550000    11.400000     6.000000  \n",
       "max       3.820000     1.080000    14.200000     9.000000  "
      ]
     },
     "execution_count": 4,
     "metadata": {},
     "output_type": "execute_result"
    }
   ],
   "source": [
    "df.describe()  #Understanding the data "
   ]
  },
  {
   "cell_type": "markdown",
   "id": "ff0c4e97-f563-498d-9b2f-ad34c58a5ac9",
   "metadata": {},
   "source": [
    "## Gathering train & testing dataset"
   ]
  },
  {
   "cell_type": "code",
   "execution_count": 8,
   "id": "a3840b57-5fb2-4927-a7d0-ad92c2bdd068",
   "metadata": {},
   "outputs": [],
   "source": [
    "#To make it easier for us and the model, lets map the quality ratings to low(-1), mid(0) and high(2)\n",
    "bins=[0,5.5,7.5,10]\n",
    "labels=[-1,0,1]\n",
    "df['quality']=pd.cut(df['quality'],bins=bins,labels=labels)"
   ]
  },
  {
   "cell_type": "code",
   "execution_count": 9,
   "id": "17797b13-b60f-4003-bfa0-dbed7794dc3e",
   "metadata": {},
   "outputs": [
    {
     "data": {
      "text/html": [
       "<div>\n",
       "<style scoped>\n",
       "    .dataframe tbody tr th:only-of-type {\n",
       "        vertical-align: middle;\n",
       "    }\n",
       "\n",
       "    .dataframe tbody tr th {\n",
       "        vertical-align: top;\n",
       "    }\n",
       "\n",
       "    .dataframe thead th {\n",
       "        text-align: right;\n",
       "    }\n",
       "</style>\n",
       "<table border=\"1\" class=\"dataframe\">\n",
       "  <thead>\n",
       "    <tr style=\"text-align: right;\">\n",
       "      <th></th>\n",
       "      <th>fixed acidity</th>\n",
       "      <th>volatile acidity</th>\n",
       "      <th>citric acid</th>\n",
       "      <th>residual sugar</th>\n",
       "      <th>chlorides</th>\n",
       "      <th>free sulfur dioxide</th>\n",
       "      <th>total sulfur dioxide</th>\n",
       "      <th>density</th>\n",
       "      <th>pH</th>\n",
       "      <th>sulphates</th>\n",
       "      <th>alcohol</th>\n",
       "      <th>quality</th>\n",
       "    </tr>\n",
       "  </thead>\n",
       "  <tbody>\n",
       "    <tr>\n",
       "      <th>0</th>\n",
       "      <td>7.0</td>\n",
       "      <td>0.27</td>\n",
       "      <td>0.36</td>\n",
       "      <td>20.7</td>\n",
       "      <td>0.045</td>\n",
       "      <td>45.0</td>\n",
       "      <td>170.0</td>\n",
       "      <td>1.0010</td>\n",
       "      <td>3.00</td>\n",
       "      <td>0.45</td>\n",
       "      <td>8.8</td>\n",
       "      <td>0</td>\n",
       "    </tr>\n",
       "    <tr>\n",
       "      <th>1</th>\n",
       "      <td>6.3</td>\n",
       "      <td>0.30</td>\n",
       "      <td>0.34</td>\n",
       "      <td>1.6</td>\n",
       "      <td>0.049</td>\n",
       "      <td>14.0</td>\n",
       "      <td>132.0</td>\n",
       "      <td>0.9940</td>\n",
       "      <td>3.30</td>\n",
       "      <td>0.49</td>\n",
       "      <td>9.5</td>\n",
       "      <td>0</td>\n",
       "    </tr>\n",
       "    <tr>\n",
       "      <th>2</th>\n",
       "      <td>8.1</td>\n",
       "      <td>0.28</td>\n",
       "      <td>0.40</td>\n",
       "      <td>6.9</td>\n",
       "      <td>0.050</td>\n",
       "      <td>30.0</td>\n",
       "      <td>97.0</td>\n",
       "      <td>0.9951</td>\n",
       "      <td>3.26</td>\n",
       "      <td>0.44</td>\n",
       "      <td>10.1</td>\n",
       "      <td>0</td>\n",
       "    </tr>\n",
       "    <tr>\n",
       "      <th>3</th>\n",
       "      <td>7.2</td>\n",
       "      <td>0.23</td>\n",
       "      <td>0.32</td>\n",
       "      <td>8.5</td>\n",
       "      <td>0.058</td>\n",
       "      <td>47.0</td>\n",
       "      <td>186.0</td>\n",
       "      <td>0.9956</td>\n",
       "      <td>3.19</td>\n",
       "      <td>0.40</td>\n",
       "      <td>9.9</td>\n",
       "      <td>0</td>\n",
       "    </tr>\n",
       "    <tr>\n",
       "      <th>4</th>\n",
       "      <td>7.2</td>\n",
       "      <td>0.23</td>\n",
       "      <td>0.32</td>\n",
       "      <td>8.5</td>\n",
       "      <td>0.058</td>\n",
       "      <td>47.0</td>\n",
       "      <td>186.0</td>\n",
       "      <td>0.9956</td>\n",
       "      <td>3.19</td>\n",
       "      <td>0.40</td>\n",
       "      <td>9.9</td>\n",
       "      <td>0</td>\n",
       "    </tr>\n",
       "  </tbody>\n",
       "</table>\n",
       "</div>"
      ],
      "text/plain": [
       "   fixed acidity  volatile acidity  citric acid  residual sugar  chlorides  \\\n",
       "0            7.0              0.27         0.36            20.7      0.045   \n",
       "1            6.3              0.30         0.34             1.6      0.049   \n",
       "2            8.1              0.28         0.40             6.9      0.050   \n",
       "3            7.2              0.23         0.32             8.5      0.058   \n",
       "4            7.2              0.23         0.32             8.5      0.058   \n",
       "\n",
       "   free sulfur dioxide  total sulfur dioxide  density    pH  sulphates  \\\n",
       "0                 45.0                 170.0   1.0010  3.00       0.45   \n",
       "1                 14.0                 132.0   0.9940  3.30       0.49   \n",
       "2                 30.0                  97.0   0.9951  3.26       0.44   \n",
       "3                 47.0                 186.0   0.9956  3.19       0.40   \n",
       "4                 47.0                 186.0   0.9956  3.19       0.40   \n",
       "\n",
       "   alcohol quality  \n",
       "0      8.8       0  \n",
       "1      9.5       0  \n",
       "2     10.1       0  \n",
       "3      9.9       0  \n",
       "4      9.9       0  "
      ]
     },
     "execution_count": 9,
     "metadata": {},
     "output_type": "execute_result"
    }
   ],
   "source": [
    "df.head(5)"
   ]
  },
  {
   "cell_type": "code",
   "execution_count": 11,
   "id": "a768306d-8563-4f92-a916-2fe45d304aa4",
   "metadata": {},
   "outputs": [],
   "source": [
    "x=df[df.columns[:-1]] #features\n",
    "y=df['quality']   #target"
   ]
  },
  {
   "cell_type": "code",
   "execution_count": 15,
   "id": "28e6cbdf-dc45-4eac-9866-eeef7d4f1897",
   "metadata": {},
   "outputs": [],
   "source": [
    "sc=StandardScaler() #This creates a StandardScaler object\n",
    "#standardising the data helps in ensuring that the classifier perfomrs optimally and efficiently"
   ]
  },
  {
   "cell_type": "code",
   "execution_count": 16,
   "id": "3c9f3523-31f7-44eb-bd04-3a11ad30d2f2",
   "metadata": {},
   "outputs": [
    {
     "data": {
      "text/plain": [
       "'Usually when we use Standardisation: whens its sensitive to scale like k-NNm SVM, PCA\\nAlso, important in  Linear regression, logistic regression and neural networks.Standardization typically applies to the features (input variables) in your dataset. \\nAlgorithms that include regularization terms, such as Lasso (L1) Regression and Ridge (L2) Regression, benefit from standardization because it ensures that the regularization term penalizes each feature equally.'"
      ]
     },
     "execution_count": 16,
     "metadata": {},
     "output_type": "execute_result"
    }
   ],
   "source": [
    "'''Usually when we use Standardisation: whens its sensitive to scale like k-NNm SVM, PCA\n",
    "Also, important in  Linear regression, logistic regression and neural networks.Standardization typically applies to the features (input variables) in your dataset. \n",
    "Algorithms that include regularization terms, such as Lasso (L1) Regression and Ridge (L2) Regression, benefit from standardization because it ensures that the regularization term penalizes each feature equally.'''"
   ]
  },
  {
   "cell_type": "code",
   "execution_count": 20,
   "id": "d95a07fb-982f-4d87-83a9-8e10518648e6",
   "metadata": {},
   "outputs": [],
   "source": [
    "x=sc.fit_transform(x) #Fit to data\n",
    "x_train, x_test, y_train, y_test = train_test_split(x, y, test_size=0.2, random_state=42)\n",
    "#We are training with 80% of data and testing with 20% of data\n",
    "#the random_state parameter ensures that the split of the data into training and testing sets is the same every time you run the code."
   ]
  },
  {
   "cell_type": "code",
   "execution_count": 21,
   "id": "8c66e45f-65d8-4079-ba77-f567845e71a6",
   "metadata": {},
   "outputs": [
    {
     "name": "stdout",
     "output_type": "stream",
     "text": [
      "count     3918\n",
      "unique       3\n",
      "top          0\n",
      "freq      2454\n",
      "Name: quality, dtype: int64\n",
      "count     980\n",
      "unique      3\n",
      "top         0\n",
      "freq      624\n",
      "Name: quality, dtype: int64\n"
     ]
    }
   ],
   "source": [
    "for data in [y_train, y_test]:\n",
    "    print(data.describe())\n"
   ]
  },
  {
   "cell_type": "markdown",
   "id": "cf9ce025-e073-44c1-8de8-8a10154a9b7b",
   "metadata": {},
   "source": [
    "### KNN- looks at the closest point and then decides"
   ]
  },
  {
   "cell_type": "code",
   "execution_count": 24,
   "id": "d7c57607-e128-4e6b-a5ca-316217a0efbe",
   "metadata": {},
   "outputs": [
    {
     "name": "stdout",
     "output_type": "stream",
     "text": [
      "              precision    recall  f1-score   support\n",
      "\n",
      "          -1       0.62      0.62      0.62       321\n",
      "           0       0.77      0.79      0.78       624\n",
      "           1       0.39      0.26      0.31        35\n",
      "\n",
      "    accuracy                           0.72       980\n",
      "   macro avg       0.60      0.56      0.57       980\n",
      "weighted avg       0.71      0.72      0.71       980\n",
      "\n"
     ]
    }
   ],
   "source": [
    "n3=KNeighborsClassifier(n_neighbors=3)   #Uses Knn keeping in mind the 3 neighbors\n",
    "n3.fit(x_train,y_train)                  #fit the model with the training data\n",
    "pred_n3=n3.predict(x_test)                #predict labels using the x test\n",
    "print(classification_report(y_test,pred_n3)) #comparing ytest (think of this as you already have answers to the test and comparing it with someone who just did the test) \n"
   ]
  },
  {
   "cell_type": "code",
   "execution_count": 25,
   "id": "e7ed8468-d5f7-4aea-8b74-c17f4f4417c2",
   "metadata": {},
   "outputs": [
    {
     "name": "stdout",
     "output_type": "stream",
     "text": [
      "0.7292016806722689\n"
     ]
    }
   ],
   "source": [
    "cross_val=cross_val_score(estimator=n3, X=x_train, y=y_train,cv=10) \n",
    "print(cross_val.mean())\n",
    "#Cross validation randomly divides trained and evaluated 10 times,and aggregates scores "
   ]
  },
  {
   "cell_type": "markdown",
   "id": "ce1723e9-bca7-40fc-946c-7df0b49d7a8f",
   "metadata": {},
   "source": [
    "#One can say the acuracy is 72.9%\n",
    "**Precision** measures the accuracy of the positive predictions. It is the ratio of true positive predictions to the total positive predictions (both true positives and false positives).\n",
    " **Intuition** Precision tells us, out of all the instances that the model predicted as positive, how many were actually positive. High precision means that there are very few false positives.\n",
    " **Recall** measures the ability of the model to capture all the positive instances. It is the ratio of true positive predictions to the total actual positives (both true positives and false negatives).\n",
    " **Intuition**Recall tells us, out of all the actual positive instances, how many were correctly predicted by the model. High recall means that there are very few false negatives.\n",
    " The**F1 score** is the harmonic mean of precision and recall. It provides a single metric that balances both precision and recall.\n",
    " The F1 score is useful when you need a balance between precision and recall and when you have an uneven class distribution. A high F1 score indicates that both precision and recall are reasonably high.\n",
    " **Support** refers to the number of actual occurrences of each class in the dataset. It is the number of true instances for each label in the dataset.\n",
    "  **Intuition** Support helps us understand the distribution of the different classes in the dataset. It is not a performance metric but provides context for interpreting precision, recall, and F1 score.\n",
    "  \n"
   ]
  },
  {
   "cell_type": "markdown",
   "id": "0f997ae2-574e-42b9-9d4b-1b4ac2ff8bac",
   "metadata": {},
   "source": [
    "Think of difference bw precison and recall as:\n",
    "Out of all the emails, predicted as spam, 91% were actually spam.\n",
    "Out of all the actual spam emails, the model correctly identified 83% of them."
   ]
  },
  {
   "cell_type": "code",
   "execution_count": 30,
   "id": "ee22baf1-a93c-4cc3-a092-99d6182d6863",
   "metadata": {},
   "outputs": [
    {
     "name": "stdout",
     "output_type": "stream",
     "text": [
      "              precision    recall  f1-score   support\n",
      "\n",
      "          -1       0.64      0.59      0.62       321\n",
      "           0       0.76      0.82      0.79       624\n",
      "           1       0.33      0.11      0.17        35\n",
      "\n",
      "    accuracy                           0.72       980\n",
      "   macro avg       0.58      0.51      0.52       980\n",
      "weighted avg       0.71      0.72      0.71       980\n",
      "\n",
      "0.7292016806722689\n"
     ]
    }
   ],
   "source": [
    "n5=KNeighborsClassifier(n_neighbors=5)   #Uses Knn keeping in mind the 3 neighbors\n",
    "n5.fit(x_train,y_train)                  #fit the model with the training data\n",
    "pred_n5=n5.predict(x_test)                #predict labels using the x test\n",
    "print(classification_report(y_test,pred_n5)) #comparing ytest (think of this as you already have answers to the test and comparing it with someone who just did the test) \n",
    "cross_val=cross_val_score(estimator=n3, X=x_train, y=y_train,cv=10) \n",
    "print(cross_val.mean())"
   ]
  },
  {
   "cell_type": "markdown",
   "id": "3383357c-4e13-4d7c-a7da-b7c81c9fe169",
   "metadata": {},
   "source": [
    "### Tree Classifiers: Random Forest Classifiers"
   ]
  },
  {
   "cell_type": "markdown",
   "id": "4dfaf4e3-454f-4095-8839-7a59b039816f",
   "metadata": {},
   "source": [
    "Tree classifier asks us a bunch of questions and based on that predicts. its only a single decison classifier"
   ]
  },
  {
   "cell_type": "code",
   "execution_count": 36,
   "id": "925e0fc2-4f07-4b5d-8298-2f090f1b12b7",
   "metadata": {},
   "outputs": [
    {
     "name": "stdout",
     "output_type": "stream",
     "text": [
      "              precision    recall  f1-score   support\n",
      "\n",
      "          -1       0.78      0.73      0.75       321\n",
      "           0       0.84      0.89      0.86       624\n",
      "           1       0.88      0.40      0.55        35\n",
      "\n",
      "    accuracy                           0.82       980\n",
      "   macro avg       0.83      0.67      0.72       980\n",
      "weighted avg       0.82      0.82      0.81       980\n",
      "\n",
      "0.806785322824782\n"
     ]
    }
   ],
   "source": [
    "rf = RandomForestClassifier()\n",
    "rf.fit(x_train,y_train)                  \n",
    "pred_rf=rf.predict(x_test)                \n",
    "print(classification_report(y_test,pred_rf))\n",
    "cross_val=cross_val_score(estimator=rf, X=x_train, y=y_train,cv=10) \n",
    "print(cross_val.mean())"
   ]
  },
  {
   "cell_type": "markdown",
   "id": "b9f0859a-33a1-4a72-9aab-9a6bb11fdeb4",
   "metadata": {},
   "source": [
    "### Decision Tree Classifier"
   ]
  },
  {
   "cell_type": "code",
   "execution_count": 37,
   "id": "3b176651-46db-48c9-9fd0-2f3da6326f5c",
   "metadata": {},
   "outputs": [
    {
     "name": "stdout",
     "output_type": "stream",
     "text": [
      "              precision    recall  f1-score   support\n",
      "\n",
      "          -1       0.67      0.68      0.67       321\n",
      "           0       0.81      0.80      0.80       624\n",
      "           1       0.40      0.49      0.44        35\n",
      "\n",
      "    accuracy                           0.75       980\n",
      "   macro avg       0.63      0.65      0.64       980\n",
      "weighted avg       0.75      0.75      0.75       980\n",
      "\n",
      "0.7332839657602171\n"
     ]
    }
   ],
   "source": [
    "dt = DecisionTreeClassifier()\n",
    "dt.fit(x_train,y_train)                  \n",
    "pred_dt=dt.predict(x_test)                \n",
    "print(classification_report(y_test,pred_dt))\n",
    "cross_val=cross_val_score(estimator=dt, X=x_train, y=y_train,cv=10) \n",
    "print(cross_val.mean())"
   ]
  },
  {
   "cell_type": "markdown",
   "id": "f387d64e-c222-4e67-a5d5-8eb49c2328d9",
   "metadata": {},
   "source": [
    "### Stochastic Classsifier"
   ]
  },
  {
   "cell_type": "code",
   "execution_count": 40,
   "id": "1ab3ba67-9ead-4d26-87e2-ccbfe91f915b",
   "metadata": {},
   "outputs": [
    {
     "name": "stdout",
     "output_type": "stream",
     "text": [
      "              precision    recall  f1-score   support\n",
      "\n",
      "          -1       0.63      0.37      0.47       321\n",
      "           0       0.70      0.89      0.79       624\n",
      "           1       0.33      0.03      0.05        35\n",
      "\n",
      "    accuracy                           0.69       980\n",
      "   macro avg       0.56      0.43      0.44       980\n",
      "weighted avg       0.67      0.69      0.66       980\n",
      "\n",
      "0.7021471632131113\n"
     ]
    }
   ],
   "source": [
    "sgd= SGDClassifier()\n",
    "sgd.fit(x_train,y_train)\n",
    "pred_sgd=sgd.predict(x_test)\n",
    "print(classification_report(y_test,pred_sgd))\n",
    "cross_val=cross_val_score(estimator=sgd, X=x_train, y=y_train,cv=10) \n",
    "print(cross_val.mean())"
   ]
  },
  {
   "cell_type": "markdown",
   "id": "0e9d0e18-afcc-4977-82a4-f89d395a710c",
   "metadata": {},
   "source": [
    "Random forest is very prone to overfitting."
   ]
  },
  {
   "cell_type": "markdown",
   "id": "a0c989d5-6773-4b97-b3c9-fd7bd93650b3",
   "metadata": {},
   "source": [
    "A **Decision Tree classifier** is a tree-like structure where each internal node represents a decision based on a feature, each branch represents the outcome of that decision, and each leaf node represents a class label (in classification tasks).The tree is constructed by recursively splitting the data into subsets based on the feature that results in the best spli"
   ]
  },
  {
   "cell_type": "markdown",
   "id": "98989590-419d-4bc2-8cc2-a5e02db80d6c",
   "metadata": {},
   "source": [
    "A **Random Forest classifier** is an ensemble method that uses multiple decision trees to make predictions. Each tree is trained on a random subset of the data (with replacement, known as bootstrapping), and a random subset of features is considered for splitting at each node.\n",
    "The final prediction is made by aggregating the predictions of all the individual trees (usually by majority voting in classification tasks)."
   ]
  },
  {
   "cell_type": "markdown",
   "id": "9e770ef2-ea51-456b-9865-fede6c4d94f8",
   "metadata": {},
   "source": [
    "**Stochastic Gradient Descent** is an optimization algorithm used to minimize the loss function in various machine learning models, including linear models (like linear regression and logistic regression) and neural networks.\n",
    "Unlike traditional gradient descent, which computes the gradient of the loss function over the entire dataset, SGD updates the model parameters for each training example or a small batch of examples, making it faster for large datasets."
   ]
  },
  {
   "cell_type": "markdown",
   "id": "70bd7fdb-c037-4302-940e-674dec7adaa9",
   "metadata": {},
   "source": [
    "A loss function (also known as a cost function or objective function) quantifies how well a model's predictions match the actual outcomes. "
   ]
  },
  {
   "cell_type": "code",
   "execution_count": 41,
   "id": "b12966e9-50f4-479b-855f-4251d97f2ed9",
   "metadata": {},
   "outputs": [],
   "source": [
    "#Clearly the best result we have received is from Random Forest at 80.6% "
   ]
  },
  {
   "cell_type": "code",
   "execution_count": null,
   "id": "e9f632fa-fda5-4c5e-8bc3-28b47155a050",
   "metadata": {},
   "outputs": [],
   "source": []
  }
 ],
 "metadata": {
  "kernelspec": {
   "display_name": "Python 3 (ipykernel)",
   "language": "python",
   "name": "python3"
  },
  "language_info": {
   "codemirror_mode": {
    "name": "ipython",
    "version": 3
   },
   "file_extension": ".py",
   "mimetype": "text/x-python",
   "name": "python",
   "nbconvert_exporter": "python",
   "pygments_lexer": "ipython3",
   "version": "3.11.7"
  }
 },
 "nbformat": 4,
 "nbformat_minor": 5
}
